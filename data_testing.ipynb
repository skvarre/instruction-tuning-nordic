{
 "cells": [
  {
   "cell_type": "code",
   "execution_count": null,
   "metadata": {},
   "outputs": [],
   "source": [
    "from transformers import AutoModelForCausalLM, AutoTokenizer\n",
    "from peft import get_peft_model, get_peft_config, PeftModelForCausalLM\n",
    "import torch"
   ]
  },
  {
   "cell_type": "code",
   "execution_count": null,
   "metadata": {},
   "outputs": [],
   "source": [
    "train_path = 'data/20_000_examples_train.pt'\n",
    "eval_path = 'data/20_000_examples_eval.pt'\n",
    "tokenizer = AutoTokenizer.from_pretrained('AI-Sweden-Models/gpt-sw3-6.7b')\n",
    "\n",
    "train_data = torch.load(train_path)\n",
    "eval_data = torch.load(eval_path)\n",
    "\n"
   ]
  },
  {
   "cell_type": "code",
   "execution_count": null,
   "metadata": {},
   "outputs": [],
   "source": [
    "# Load huggingface datset\n",
    "from datasets import load_dataset\n",
    "dataset = load_dataset(\"teknium/OpenHermes-2.5\")"
   ]
  },
  {
   "cell_type": "code",
   "execution_count": null,
   "metadata": {},
   "outputs": [],
   "source": [
    "# Save dataset as jsonl\n",
    "dataset['train'].to_json('OpenHermes-2.5.jsonl', orient='records', lines=True)\n"
   ]
  },
  {
   "cell_type": "code",
   "execution_count": null,
   "metadata": {},
   "outputs": [],
   "source": [
    "import torch\n",
    "from transformers import pipeline, StoppingCriteriaList, StoppingCriteria\n",
    "\n",
    "device = \"cuda\" if torch.cuda.is_available() else \"cpu\"\n",
    "\n",
    "\n",
    "# (Optional) - define a stopping criteria\n",
    "# We ideally want the model to stop generate once the response from the Bot is generated\n",
    "class StopOnTokenCriteria(StoppingCriteria):\n",
    "    def __init__(self, stop_token_id):\n",
    "        self.stop_token_id = stop_token_id\n",
    "\n",
    "    def __call__(self, input_ids, scores, **kwargs):\n",
    "        return input_ids[0, -1] == self.stop_token_id\n",
    "\n",
    "\n",
    "pipe = pipeline(\n",
    "    task=\"text-generation\",\n",
    "    model=\"AI-Sweden-Models/gpt-sw3-6.7b-v2-translator\",\n",
    "    device=device\n",
    ")\n",
    "\n",
    "stop_on_token_criteria = StopOnTokenCriteria(stop_token_id=pipe.tokenizer.bos_token_id)\n",
    "text = \"I like to eat ice cream in the summer.\"\n",
    "\n",
    "# This will translate English to Swedish\n",
    "# To translate from Swedish to English the prompt would be:\n",
    "# prompt = f\"<|endoftext|><s>User: Översätt till Engelska från Svenska\\n{text}<s>Bot:\"\n",
    "\n",
    "prompt = f\"<|endoftext|><s>User: Översätt till Svenska från Engelska\\n{text}<s>Bot:\"\n",
    "\n",
    "input_tokens = pipe.tokenizer(prompt, return_tensors=\"pt\").input_ids.to(device)\n",
    "max_model_length = 2048\n",
    "dynamic_max_length = max_model_length - input_tokens.shape[1]\n",
    "\n",
    "response = pipe(\n",
    "    prompt,\n",
    "    max_length=dynamic_max_length,\n",
    "    truncation=True,\n",
    "    stopping_criteria=StoppingCriteriaList([stop_on_token_criteria])\n",
    ")\n",
    "\n",
    "print(response[0][\"generated_text\"].split(\"<s>Bot: \")[-1])\n"
   ]
  },
  {
   "cell_type": "code",
   "execution_count": null,
   "metadata": {},
   "outputs": [],
   "source": [
    "import torch\n",
    "from transformers import pipeline, StoppingCriteriaList, StoppingCriteria, AutoModelForCausalLM\n",
    "\n",
    "\n",
    "# Save model\n",
    "model = AutoModelForCausalLM.from_pretrained(\"AI-Sweden-Models/gpt-sw3-6.7b-v2-translator\")\n",
    "model.save_pretrained(\"gpt-sw3-6.7b-v2-translator\")"
   ]
  },
  {
   "cell_type": "code",
   "execution_count": null,
   "metadata": {},
   "outputs": [],
   "source": [
    "# Upload model to hub\n",
    "\n",
    "from transformers import pipeline, AutoModelForCausalLM, AutoTokenizer\n",
    "\n",
    "model = AutoModelForCausalLM.from_pretrained(\"/mnt/pr_SharedNLU/users/tim_olsen/instruction-tuning-nordic/models/qlora-test-gpt-sw3-6.7b-v2-20k-8batch-0.85split/checkpoint-3450\")\n",
    "tokenizer = AutoTokenizer.from_pretrained(\"/mnt/pr_SharedNLU/users/tim_olsen/instruction-tuning-nordic/models/qlora-test-gpt-sw3-6.7b-v2-20k-8batch-0.85split/checkpoint-3450\")\n",
    "\n",
    "model.push_to_hub(\"skvarre/qlora-4bit-test-gpt-sw3-6.7b\")\n",
    "tokenizer.push_to_hub(\"skvarre/qlora-4bit-test-gpt-sw3-6.7b\")"
   ]
  },
  {
   "cell_type": "code",
   "execution_count": 4,
   "metadata": {},
   "outputs": [
    {
     "name": "stderr",
     "output_type": "stream",
     "text": [
      "Loading checkpoint shards: 100%|██████████| 6/6 [01:45<00:00, 17.58s/it]\n",
      "/home/edgelab/Tim/miniconda3/envs/pytorch-env/lib/python3.12/site-packages/peft/tuners/lora/layer.py:1059: UserWarning: fan_in_fan_out is set to False but the target module is `Conv1D`. Setting fan_in_fan_out to True.\n",
      "  warnings.warn(\n"
     ]
    }
   ],
   "source": [
    "# Merge LoRA adapters with base model and upload to hub\n",
    "from transformers import AutoModelForCausalLM, AutoTokenizer, BitsAndBytesConfig\n",
    "from peft import get_peft_model, get_peft_config, PeftModelForCausalLM, PeftModel \n",
    "import torch\n",
    "\n",
    "base_model_path = \"../models/gpt-sw3-6.7b-v2\"\n",
    "adapter_path = \"./models/gpt-sw3-6.7b-qlora-4bit-openhermes-28k/checkpoint-528\"\n",
    "tokenizer = AutoTokenizer.from_pretrained(base_model_path)\n",
    "\n",
    "quantization_config = BitsAndBytesConfig(\n",
    "    load_in_4bit=True,                     # Load model in 4-bit mode\n",
    "    bnb_4bit_use_double_quantization=True, # Nested quantization \n",
    "    bnb_4bit_quant_type=\"nf4\",             # Quantization algorithm to use \n",
    "    bnb_4bit_compute_dtype=torch.bfloat16  # data type of model after quantization\n",
    ")\n",
    "\n",
    "base_model = AutoModelForCausalLM.from_pretrained(\n",
    "            base_model_path,\n",
    "            torch_dtype=torch.bfloat16,\n",
    "            # quantization_config=quantization_config,\n",
    "            local_files_only=False,\n",
    "            device_map=\"auto\"\n",
    ")\n",
    "\n",
    "model_to_merge = PeftModel.from_pretrained(\n",
    "            base_model,\n",
    "            adapter_path\n",
    ")"
   ]
  },
  {
   "cell_type": "code",
   "execution_count": 5,
   "metadata": {},
   "outputs": [],
   "source": [
    "merged_model = model_to_merge.merge_and_unload()\n",
    "\n",
    "merged_model.save_pretrained(\"gpt-sw3-6.7b-v2-QLoRA-openhermes-28k-merged\")\n",
    "tokenizer.save_pretrained(\"gpt-sw3-6.7b-v2-QLoRA-openhermes-28k-merged\")"
   ]
  },
  {
   "cell_type": "code",
   "execution_count": null,
   "metadata": {},
   "outputs": [],
   "source": [
    "merged_model.push_to_hub(\"skvarre/gpt-sw3-6.7b-v2-QLoRA-openhermes-28k-merged\")\n",
    "# Upload tokenizer to hub as well\n",
    "tokenizer.push_to_hub(\"skvarre/gpt-sw3-6.7b-v2-QLoRA-openhermes-28k-merged\")"
   ]
  },
  {
   "cell_type": "code",
   "execution_count": null,
   "metadata": {},
   "outputs": [],
   "source": [
    "from transformers import AutoModelForCausalLM, AutoTokenizer\n",
    "from peft import get_peft_model, get_peft_config, PeftModelForCausalLM\n",
    "import torch\n",
    "# Save model\n",
    "model = AutoModelForCausalLM.from_pretrained(\"skvarre/gpt-sw3-6.7b-v2-qlora-4bit-openhermes-28k-merged\")\n",
    "tokenizer = AutoTokenizer.from_pretrained(\"skvarre/gpt-sw3-6.7b-v2-qlora-4bit-openhermes-28k-merged\")\n",
    "\n",
    "model.save_pretrained(\"./gpt-sw3-6.7b-v2-qlora-4bit-openhermes-28k-merged\")\n",
    "tokenizer.save_pretrained(\"./gpt-sw3-6.7b-v2-qlora-4bit-openhermes-28k-merged\")"
   ]
  }
 ],
 "metadata": {
  "kernelspec": {
   "display_name": "pytorch-env",
   "language": "python",
   "name": "python3"
  },
  "language_info": {
   "codemirror_mode": {
    "name": "ipython",
    "version": 3
   },
   "file_extension": ".py",
   "mimetype": "text/x-python",
   "name": "python",
   "nbconvert_exporter": "python",
   "pygments_lexer": "ipython3",
   "version": "3.12.1"
  }
 },
 "nbformat": 4,
 "nbformat_minor": 2
}
