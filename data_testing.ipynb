{
 "cells": [
  {
   "cell_type": "code",
   "execution_count": 1,
   "metadata": {},
   "outputs": [
    {
     "name": "stderr",
     "output_type": "stream",
     "text": [
      "/home/edgelab/Tim/miniconda3/envs/pytorch-env/lib/python3.12/site-packages/tqdm/auto.py:21: TqdmWarning: IProgress not found. Please update jupyter and ipywidgets. See https://ipywidgets.readthedocs.io/en/stable/user_install.html\n",
      "  from .autonotebook import tqdm as notebook_tqdm\n"
     ]
    }
   ],
   "source": [
    "from datasets import load_dataset"
   ]
  },
  {
   "cell_type": "code",
   "execution_count": 2,
   "metadata": {},
   "outputs": [],
   "source": [
    "dataset = load_dataset(\"timpal0l/OpenHermes-2.5-sv\")"
   ]
  },
  {
   "cell_type": "code",
   "execution_count": 3,
   "metadata": {},
   "outputs": [],
   "source": [
    "import random \n",
    "\n",
    "SAMPLES = 5000\n",
    "random_numbers = random.sample(range(len(dataset['train'])), SAMPLES)\n",
    "\n",
    "data = [dataset['train'][i]['conversations'] for i in random_numbers]"
   ]
  },
  {
   "cell_type": "code",
   "execution_count": 22,
   "metadata": {},
   "outputs": [
    {
     "data": {
      "text/plain": [
       "dict_keys(['from', 'value', 'weight'])"
      ]
     },
     "execution_count": 22,
     "metadata": {},
     "output_type": "execute_result"
    }
   ],
   "source": [
    "data[0][0].keys()"
   ]
  },
  {
   "cell_type": "code",
   "execution_count": 26,
   "metadata": {},
   "outputs": [],
   "source": [
    "# {\"text\": [{\"<human>\": \"Skriv en hypotetisk plottsynopsis for et tredje Sonic Adventure-spill.\"}, {\"<bot>\": \"I dette nye kapittelet reiser Sonic og vennene hans til en alternativ dimensjon kalt \\\"Sonic Universe\\\", hvor de m\\u00f8ter forskjellige versjoner av sine gamle fiender s\\u00e5 vel som nye. Historien utforsker universets historie og karakterenes forhold til hverandre mens de kjemper for \\u00e5 redde det fra en forest\\u00e5ende m\\u00f8rke. Underveis vil de m\\u00f8te mange spennende vendinger og m\\u00e5 bruke alle sine ferdigheter og evner for \\u00e5 lykkes.\\n\\nSpillet vil inneholde raske actionsekvenser, intense sjefskamper og unike og fargerike milj\\u00f8er. Spillere vil kunne tilpasse karakterens utseende, bevege seg fritt gjennom milj\\u00f8et og utforske forskjellige regioner for \\u00e5 oppdage skjulte hemmeligheter og l\\u00e5se opp ekstra funksjoner. Med en cast av klassiske karakterer og nye lagt til blandingen, er Sonic Adventure 3 sikker p\\u00e5 \\u00e5 gi spenning og underholdning til fans av franchisen.\"}]}\n",
    "\n",
    "ROLEMAP = {\n",
    "    \"human\": \"<human>\",\n",
    "    \"system\": \"content\",\n",
    "    \"gpt\": \"<bot>\"\n",
    "}\n",
    "\n",
    "# with open(f'hermes_{SAMPLES}.jsonl', 'w') as f:\n",
    "#     for d in data:\n",
    "#         dictionary = {\"text\": []}\n",
    "#         for turn in d:\n",
    "#             dictionary['text'].append({ROLEMAP[turn['from']]: turn['value']})\n",
    "#         f.write(str(dictionary) + '\\n')\n",
    "\n",
    "# SAme as above but json\n",
    "import json\n",
    "with open(f'hermes_{SAMPLES}.jsonl', 'w') as f:\n",
    "    for d in data:\n",
    "        dictionary = {\"text\": []}\n",
    "        for turn in d:\n",
    "            dictionary['text'].append({ROLEMAP[turn['from']]: turn['value']})\n",
    "        f.write(json.dumps(dictionary) + '\\n')\n"
   ]
  }
 ],
 "metadata": {
  "kernelspec": {
   "display_name": "pytorch-env",
   "language": "python",
   "name": "python3"
  },
  "language_info": {
   "codemirror_mode": {
    "name": "ipython",
    "version": 3
   },
   "file_extension": ".py",
   "mimetype": "text/x-python",
   "name": "python",
   "nbconvert_exporter": "python",
   "pygments_lexer": "ipython3",
   "version": "3.12.1"
  }
 },
 "nbformat": 4,
 "nbformat_minor": 2
}
