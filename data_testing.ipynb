{
 "cells": [
  {
   "cell_type": "code",
   "execution_count": 4,
   "metadata": {},
   "outputs": [],
   "source": [
    "import torch\n",
    "from transformers import AutoTokenizer"
   ]
  },
  {
   "cell_type": "code",
   "execution_count": 6,
   "metadata": {},
   "outputs": [
    {
     "name": "stdout",
     "output_type": "stream",
     "text": [
      "39.708333333333336\n"
     ]
    }
   ],
   "source": [
    "train_path = 'data/20_000_examples_train.pt'\n",
    "eval_path = 'data/20_000_examples_eval.pt'\n",
    "tokenizer = AutoTokenizer.from_pretrained('AI-Sweden-Models/gpt-sw3-6.7b')\n",
    "\n",
    "train_data = torch.load(train_path)\n",
    "eval_data = torch.load(eval_path)\n",
    "\n"
   ]
  },
  {
   "cell_type": "code",
   "execution_count": 1,
   "metadata": {},
   "outputs": [
    {
     "name": "stderr",
     "output_type": "stream",
     "text": [
      "/home/edgelab/Tim/miniconda3/envs/pytorch-env/lib/python3.12/site-packages/tqdm/auto.py:21: TqdmWarning: IProgress not found. Please update jupyter and ipywidgets. See https://ipywidgets.readthedocs.io/en/stable/user_install.html\n",
      "  from .autonotebook import tqdm as notebook_tqdm\n",
      "Downloading readme: 100%|██████████| 4.75k/4.75k [00:00<00:00, 15.1MB/s]\n",
      "Downloading data: 100%|██████████| 1.94G/1.94G [00:40<00:00, 47.8MB/s]\n",
      "Generating train split: 1001551 examples [00:21, 46951.74 examples/s]\n"
     ]
    }
   ],
   "source": [
    "# Load huggingface datset\n",
    "from datasets import load_dataset\n",
    "dataset = load_dataset(\"teknium/OpenHermes-2.5\")"
   ]
  },
  {
   "cell_type": "code",
   "execution_count": 3,
   "metadata": {},
   "outputs": [
    {
     "name": "stderr",
     "output_type": "stream",
     "text": [
      "Creating json from Arrow format: 100%|██████████| 1002/1002 [00:15<00:00, 62.83ba/s]\n"
     ]
    },
    {
     "data": {
      "text/plain": [
       "1974353791"
      ]
     },
     "execution_count": 3,
     "metadata": {},
     "output_type": "execute_result"
    }
   ],
   "source": [
    "# Save dataset as jsonl\n",
    "dataset['train'].to_json('OpenHermes-2.5.jsonl', orient='records', lines=True)\n"
   ]
  },
  {
   "cell_type": "code",
   "execution_count": null,
   "metadata": {},
   "outputs": [],
   "source": [
    "import torch\n",
    "from transformers import pipeline, StoppingCriteriaList, StoppingCriteria\n",
    "\n",
    "device = \"cuda\" if torch.cuda.is_available() else \"cpu\"\n",
    "\n",
    "\n",
    "# (Optional) - define a stopping criteria\n",
    "# We ideally want the model to stop generate once the response from the Bot is generated\n",
    "class StopOnTokenCriteria(StoppingCriteria):\n",
    "    def __init__(self, stop_token_id):\n",
    "        self.stop_token_id = stop_token_id\n",
    "\n",
    "    def __call__(self, input_ids, scores, **kwargs):\n",
    "        return input_ids[0, -1] == self.stop_token_id\n",
    "\n",
    "\n",
    "pipe = pipeline(\n",
    "    task=\"text-generation\",\n",
    "    model=\"AI-Sweden-Models/gpt-sw3-6.7b-v2-translator\",\n",
    "    device=device\n",
    ")\n",
    "\n",
    "stop_on_token_criteria = StopOnTokenCriteria(stop_token_id=pipe.tokenizer.bos_token_id)\n",
    "text = \"I like to eat ice cream in the summer.\"\n",
    "\n",
    "# This will translate English to Swedish\n",
    "# To translate from Swedish to English the prompt would be:\n",
    "# prompt = f\"<|endoftext|><s>User: Översätt till Engelska från Svenska\\n{text}<s>Bot:\"\n",
    "\n",
    "prompt = f\"<|endoftext|><s>User: Översätt till Svenska från Engelska\\n{text}<s>Bot:\"\n",
    "\n",
    "input_tokens = pipe.tokenizer(prompt, return_tensors=\"pt\").input_ids.to(device)\n",
    "max_model_length = 2048\n",
    "dynamic_max_length = max_model_length - input_tokens.shape[1]\n",
    "\n",
    "response = pipe(\n",
    "    prompt,\n",
    "    max_length=dynamic_max_length,\n",
    "    truncation=True,\n",
    "    stopping_criteria=StoppingCriteriaList([stop_on_token_criteria])\n",
    ")\n",
    "\n",
    "print(response[0][\"generated_text\"].split(\"<s>Bot: \")[-1])\n"
   ]
  },
  {
   "cell_type": "code",
   "execution_count": 1,
   "metadata": {},
   "outputs": [
    {
     "name": "stderr",
     "output_type": "stream",
     "text": [
      "/home/edgelab/Tim/miniconda3/envs/pytorch-env/lib/python3.12/site-packages/tqdm/auto.py:21: TqdmWarning: IProgress not found. Please update jupyter and ipywidgets. See https://ipywidgets.readthedocs.io/en/stable/user_install.html\n",
      "  from .autonotebook import tqdm as notebook_tqdm\n",
      "Loading checkpoint shards: 100%|██████████| 3/3 [00:09<00:00,  3.07s/it]\n",
      "Some non-default generation parameters are set in the model config. These should go into a GenerationConfig file (https://huggingface.co/docs/transformers/generation_strategies#save-a-custom-decoding-strategy-with-your-model) instead. This warning will be raised to an exception in v4.41.\n",
      "Non-default generation parameters: {'max_length': 2048}\n"
     ]
    }
   ],
   "source": [
    "import torch\n",
    "from transformers import pipeline, StoppingCriteriaList, StoppingCriteria, AutoModelForCausalLM\n",
    "\n",
    "\n",
    "# Save model\n",
    "model = AutoModelForCausalLM.from_pretrained(\"AI-Sweden-Models/gpt-sw3-6.7b-v2-translator\")\n",
    "model.save_pretrained(\"gpt-sw3-6.7b-v2-translator\")"
   ]
  },
  {
   "cell_type": "code",
   "execution_count": 3,
   "metadata": {},
   "outputs": [
    {
     "data": {
      "text/plain": [
       "('gpt-sw3-6.7b-v2-translator/tokenizer_config.json',\n",
       " 'gpt-sw3-6.7b-v2-translator/special_tokens_map.json',\n",
       " 'gpt-sw3-6.7b-v2-translator/spiece.model',\n",
       " 'gpt-sw3-6.7b-v2-translator/added_tokens.json')"
      ]
     },
     "execution_count": 3,
     "metadata": {},
     "output_type": "execute_result"
    }
   ],
   "source": [
    "from transformers import AutoTokenizer\n",
    "tokenizer = AutoTokenizer.from_pretrained(\"AI-Sweden-Models/gpt-sw3-6.7b-v2-translator\")\n",
    "tokenizer.save_pretrained(\"gpt-sw3-6.7b-v2-translator\")"
   ]
  }
 ],
 "metadata": {
  "kernelspec": {
   "display_name": "pytorch-env",
   "language": "python",
   "name": "python3"
  },
  "language_info": {
   "codemirror_mode": {
    "name": "ipython",
    "version": 3
   },
   "file_extension": ".py",
   "mimetype": "text/x-python",
   "name": "python",
   "nbconvert_exporter": "python",
   "pygments_lexer": "ipython3",
   "version": "3.12.1"
  }
 },
 "nbformat": 4,
 "nbformat_minor": 2
}
