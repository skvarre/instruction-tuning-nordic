{
 "cells": [
  {
   "cell_type": "code",
   "execution_count": null,
   "metadata": {},
   "outputs": [],
   "source": [
    "from transformers import AutoModelForCausalLM, AutoTokenizer\n",
    "from peft import get_peft_model, get_peft_config, PeftModelForCausalLM\n",
    "import torch"
   ]
  },
  {
   "cell_type": "code",
   "execution_count": null,
   "metadata": {},
   "outputs": [],
   "source": [
    "train_path = 'data/20_000_examples_train.pt'\n",
    "eval_path = 'data/20_000_examples_eval.pt'\n",
    "tokenizer = AutoTokenizer.from_pretrained('AI-Sweden-Models/gpt-sw3-6.7b')\n",
    "\n",
    "train_data = torch.load(train_path)\n",
    "eval_data = torch.load(eval_path)\n",
    "\n"
   ]
  },
  {
   "cell_type": "code",
   "execution_count": null,
   "metadata": {},
   "outputs": [],
   "source": [
    "# Load huggingface datset\n",
    "from datasets import load_dataset\n",
    "dataset = load_dataset(\"teknium/OpenHermes-2.5\")"
   ]
  },
  {
   "cell_type": "code",
   "execution_count": null,
   "metadata": {},
   "outputs": [],
   "source": [
    "# Save dataset as jsonl\n",
    "dataset['train'].to_json('OpenHermes-2.5.jsonl', orient='records', lines=True)\n"
   ]
  },
  {
   "cell_type": "code",
   "execution_count": null,
   "metadata": {},
   "outputs": [],
   "source": [
    "import torch\n",
    "from transformers import pipeline, StoppingCriteriaList, StoppingCriteria\n",
    "\n",
    "device = \"cuda\" if torch.cuda.is_available() else \"cpu\"\n",
    "\n",
    "\n",
    "# (Optional) - define a stopping criteria\n",
    "# We ideally want the model to stop generate once the response from the Bot is generated\n",
    "class StopOnTokenCriteria(StoppingCriteria):\n",
    "    def __init__(self, stop_token_id):\n",
    "        self.stop_token_id = stop_token_id\n",
    "\n",
    "    def __call__(self, input_ids, scores, **kwargs):\n",
    "        return input_ids[0, -1] == self.stop_token_id\n",
    "\n",
    "\n",
    "pipe = pipeline(\n",
    "    task=\"text-generation\",\n",
    "    model=\"AI-Sweden-Models/gpt-sw3-6.7b-v2-translator\",\n",
    "    device=device\n",
    ")\n",
    "\n",
    "stop_on_token_criteria = StopOnTokenCriteria(stop_token_id=pipe.tokenizer.bos_token_id)\n",
    "text = \"I like to eat ice cream in the summer.\"\n",
    "\n",
    "# This will translate English to Swedish\n",
    "# To translate from Swedish to English the prompt would be:\n",
    "# prompt = f\"<|endoftext|><s>User: Översätt till Engelska från Svenska\\n{text}<s>Bot:\"\n",
    "\n",
    "prompt = f\"<|endoftext|><s>User: Översätt till Svenska från Engelska\\n{text}<s>Bot:\"\n",
    "\n",
    "input_tokens = pipe.tokenizer(prompt, return_tensors=\"pt\").input_ids.to(device)\n",
    "max_model_length = 2048\n",
    "dynamic_max_length = max_model_length - input_tokens.shape[1]\n",
    "\n",
    "response = pipe(\n",
    "    prompt,\n",
    "    max_length=dynamic_max_length,\n",
    "    truncation=True,\n",
    "    stopping_criteria=StoppingCriteriaList([stop_on_token_criteria])\n",
    ")\n",
    "\n",
    "print(response[0][\"generated_text\"].split(\"<s>Bot: \")[-1])\n"
   ]
  },
  {
   "cell_type": "code",
   "execution_count": null,
   "metadata": {},
   "outputs": [],
   "source": [
    "import torch\n",
    "from transformers import pipeline, StoppingCriteriaList, StoppingCriteria, AutoModelForCausalLM\n",
    "\n",
    "\n",
    "# Save model\n",
    "model = AutoModelForCausalLM.from_pretrained(\"AI-Sweden-Models/gpt-sw3-6.7b-v2-translator\")\n",
    "model.save_pretrained(\"gpt-sw3-6.7b-v2-translator\")"
   ]
  },
  {
   "cell_type": "code",
   "execution_count": null,
   "metadata": {},
   "outputs": [],
   "source": [
    "# Upload model to hub\n",
    "\n",
    "from transformers import pipeline, AutoModelForCausalLM, AutoTokenizer\n",
    "\n",
    "model = AutoModelForCausalLM.from_pretrained(\"/mnt/pr_SharedNLU/users/tim_olsen/instruction-tuning-nordic/models/qlora-test-gpt-sw3-6.7b-v2-20k-8batch-0.85split/checkpoint-3450\")\n",
    "tokenizer = AutoTokenizer.from_pretrained(\"/mnt/pr_SharedNLU/users/tim_olsen/instruction-tuning-nordic/models/qlora-test-gpt-sw3-6.7b-v2-20k-8batch-0.85split/checkpoint-3450\")\n",
    "\n",
    "model.push_to_hub(\"skvarre/qlora-4bit-test-gpt-sw3-6.7b\")\n",
    "tokenizer.push_to_hub(\"skvarre/qlora-4bit-test-gpt-sw3-6.7b\")"
   ]
  },
  {
   "cell_type": "code",
   "execution_count": null,
   "metadata": {},
   "outputs": [],
   "source": [
    "# Merge LoRA adapters with base model and upload to hub\n",
    "from transformers import AutoModelForCausalLM, AutoTokenizer\n",
    "from peft import get_peft_model, get_peft_config, PeftModelForCausalLM\n",
    "import torch\n",
    "\n",
    "base_model_path = \"../models/gpt-sw3-6.7b-v2\"\n",
    "adapter_path = \"./models/qlora-test-gpt-sw3-6.7b-v2-20k-8batch-0.85split/checkpoint-3450\"\n",
    "tokenizer = AutoTokenizer.from_pretrained(\"/mnt/pr_SharedNLU/users/tim_olsen/instruction-tuning-nordic/models/qlora-test-gpt-sw3-6.7b-v2-20k-8batch-0.85split/checkpoint-3450\")\n",
    "\n",
    "\n",
    "base_model = AutoModelForCausalLM.from_pretrained(\n",
    "            base_model_path,\n",
    "            torch_dtype=torch.bfloat16,\n",
    "            load_in_4bit=True,\n",
    "            local_files_only=False,\n",
    "            device_map=\"auto\"\n",
    ")\n",
    "\n",
    "model_to_merge = PeftModelForCausalLM.from_pretrained(\n",
    "            base_model,\n",
    "            adapter_path\n",
    ")\n"
   ]
  },
  {
   "cell_type": "code",
   "execution_count": null,
   "metadata": {},
   "outputs": [],
   "source": [
    "merged_model = model_to_merge.merge_and_unload()"
   ]
  },
  {
   "cell_type": "code",
   "execution_count": null,
   "metadata": {},
   "outputs": [],
   "source": [
    "merged_model.push_to_hub(\"skvarre/qlora-4bit-test-gpt-sw3-6.7b-merged\")"
   ]
  },
  {
   "cell_type": "code",
   "execution_count": null,
   "metadata": {},
   "outputs": [],
   "source": [
    "# Save model\n",
    "model = AutoModelForCausalLM.from_pretrained(\"skvarre/qlora-4bit-test-gpt-sw3-6.7b-merged\")\n",
    "\n",
    "model.save_pretrained(\"qlora-4bit-test-gpt-sw3-6.7b-merged\")"
   ]
  }
 ],
 "metadata": {
  "kernelspec": {
   "display_name": "pytorch-env",
   "language": "python",
   "name": "python3"
  },
  "language_info": {
   "codemirror_mode": {
    "name": "ipython",
    "version": 3
   },
   "file_extension": ".py",
   "mimetype": "text/x-python",
   "name": "python",
   "nbconvert_exporter": "python",
   "pygments_lexer": "ipython3",
   "version": "3.12.1"
  }
 },
 "nbformat": 4,
 "nbformat_minor": 2
}
