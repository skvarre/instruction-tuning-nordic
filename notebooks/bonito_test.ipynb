{
 "cells": [
  {
   "cell_type": "code",
   "execution_count": null,
   "metadata": {},
   "outputs": [],
   "source": [
    "from bonito import Bonito\n",
    "from vllm import SamplingParams\n",
    "from datasets import load_dataset\n",
    "\n",
    "# Initialize the Bonito model\n",
    "bonito = Bonito(\"BatsResearch/bonito-v1\", dtype=\"float16\")\n",
    "\n",
    "# load dataset with unannotated text\n",
    "unannotated_text = load_dataset(\n",
    "    \"BatsResearch/bonito-experiment\",\n",
    "    \"unannotated_contract_nli\"\n",
    ")[\"train\"].select(range(10))\n",
    "\n",
    "# Generate synthetic instruction tuning dataset\n",
    "sampling_params = SamplingParams(max_tokens=256, top_p=0.95, temperature=0.5, n=1)\n",
    "synthetic_dataset = bonito.generate_tasks(\n",
    "    unannotated_text,\n",
    "    context_col=\"input\",\n",
    "    task_type=\"qg\",\n",
    "    sampling_params=sampling_params\n",
    ")"
   ]
  },
  {
   "cell_type": "code",
   "execution_count": null,
   "metadata": {},
   "outputs": [],
   "source": [
    "synthetic_dataset['input'][0], synthetic_dataset['output'][0]"
   ]
  }
 ],
 "metadata": {
  "kernelspec": {
   "display_name": "bonito",
   "language": "python",
   "name": "python3"
  },
  "language_info": {
   "codemirror_mode": {
    "name": "ipython",
    "version": 3
   },
   "file_extension": ".py",
   "mimetype": "text/x-python",
   "name": "python",
   "nbconvert_exporter": "python",
   "pygments_lexer": "ipython3",
   "version": "3.9.19"
  }
 },
 "nbformat": 4,
 "nbformat_minor": 2
}
